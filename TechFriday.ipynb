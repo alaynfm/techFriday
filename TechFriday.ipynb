{
 "cells": [
  {
   "cell_type": "raw",
   "id": "ac2bc0ca-6053-42d5-a6b8-6c2703ade251",
   "metadata": {},
   "source": [
    " _____ _____ ____ _   _   _____ ____  ___ ____    _ __   __\n",
    "|_   _| ____/ ___| | | | |  ___|  _ \\|_ _|  _ \\  / \\\\ \\ / /\n",
    "  | | |  _|| |   | |_| | | |_  | |_) || || | | |/ _ \\\\ V / \n",
    "  | | | |__| |___|  _  | |  _| |  _ < | || |_| / ___ \\| |  \n",
    "  |_| |_____\\____|_| |_| |_|   |_| \\_\\___|____/_/   \\_\\_| "
   ]
  },
  {
   "cell_type": "code",
   "execution_count": 12,
   "id": "89184acd-9ddd-4e2a-a571-32715eb0145a",
   "metadata": {},
   "outputs": [
    {
     "name": "stdout",
     "output_type": "stream",
     "text": [
      "None\n"
     ]
    }
   ],
   "source": [
    "from data.prepareData import fetch_sarif_dataframes\n",
    "import pandas as pd\n",
    "import os\n",
    "\n",
    "# Define the input variables\n",
    "asd = \"asd\"\n",
    "REPO_OWNER = \"alaynfm\"\n",
    "REPO_NAME = \"techFriday\"\n",
    "WORKFLOW_ID = \"comparative.yaml\"\n",
    "\n",
    "sarif_dataframes_by_tool = fetch_sarif_dataframes(asd, REPO_OWNER, REPO_NAME, WORKFLOW_ID)"
   ]
  },
  {
   "cell_type": "code",
   "execution_count": 4,
   "id": "71a9c78c-54eb-47f9-98c2-ac118f0241dd",
   "metadata": {},
   "outputs": [],
   "source": [
    "sarif_dataframes_by_tool_cleaned = {key.lower(): df.drop_duplicates() for key, df in sarif_dataframes_by_tool.items()}\n",
    "sarif_dataframes_by_tool = {key.lower(): df for key, df in sarif_dataframes_by_tool.items()}"
   ]
  },
  {
   "cell_type": "code",
   "execution_count": 5,
   "id": "3021ce1c-0c48-44ea-bac5-5e99610bb49d",
   "metadata": {},
   "outputs": [
    {
     "data": {
      "text/html": [
       "<div>\n",
       "<style scoped>\n",
       "    .dataframe tbody tr th:only-of-type {\n",
       "        vertical-align: middle;\n",
       "    }\n",
       "\n",
       "    .dataframe tbody tr th {\n",
       "        vertical-align: top;\n",
       "    }\n",
       "\n",
       "    .dataframe thead th {\n",
       "        text-align: right;\n",
       "    }\n",
       "</style>\n",
       "<table border=\"1\" class=\"dataframe\">\n",
       "  <thead>\n",
       "    <tr style=\"text-align: right;\">\n",
       "      <th></th>\n",
       "      <th>Tool</th>\n",
       "      <th>AWS Controls</th>\n",
       "      <th>Azure Controls</th>\n",
       "      <th>Total Controls</th>\n",
       "    </tr>\n",
       "  </thead>\n",
       "  <tbody>\n",
       "  </tbody>\n",
       "</table>\n",
       "</div>"
      ],
      "text/plain": [
       "Empty DataFrame\n",
       "Columns: [Tool, AWS Controls, Azure Controls, Total Controls]\n",
       "Index: []"
      ]
     },
     "execution_count": 5,
     "metadata": {},
     "output_type": "execute_result"
    }
   ],
   "source": [
    "# Initialize a list to store the comparison data\n",
    "comparison_data = {\n",
    "    \"Tool\": [],\n",
    "    \"AWS Controls\": [],\n",
    "    \"Azure Controls\": [],\n",
    "    \"Total Controls\": []\n",
    "}\n",
    "\n",
    "# Iterate through all tools in sarif_dataframes_by_tool\n",
    "for tool_name, df in sarif_dataframes_by_tool_cleaned.items():\n",
    "    aws_count = df[df[\"source\"] == \"AWS\"].shape[0]\n",
    "    azure_count = df[df[\"source\"] == \"Azure\"].shape[0]\n",
    "    total_count = df.shape[0]\n",
    "    \n",
    "    comparison_data[\"Tool\"].append(tool_name)\n",
    "    comparison_data[\"AWS Controls\"].append(aws_count)\n",
    "    comparison_data[\"Azure Controls\"].append(azure_count)\n",
    "    comparison_data[\"Total Controls\"].append(total_count)\n",
    "\n",
    "# Convert the comparison data to a DataFrame\n",
    "comparison_df = pd.DataFrame(comparison_data)\n",
    "\n",
    "# Display the DataFrame\n",
    "comparison_df"
   ]
  },
  {
   "cell_type": "code",
   "execution_count": 6,
   "id": "613d7e24-79ae-4636-ab57-31b06a059a38",
   "metadata": {},
   "outputs": [
    {
     "data": {
      "text/html": [
       "<div>\n",
       "<style scoped>\n",
       "    .dataframe tbody tr th:only-of-type {\n",
       "        vertical-align: middle;\n",
       "    }\n",
       "\n",
       "    .dataframe tbody tr th {\n",
       "        vertical-align: top;\n",
       "    }\n",
       "\n",
       "    .dataframe thead th {\n",
       "        text-align: right;\n",
       "    }\n",
       "</style>\n",
       "<table border=\"1\" class=\"dataframe\">\n",
       "  <thead>\n",
       "    <tr style=\"text-align: right;\">\n",
       "      <th></th>\n",
       "      <th>Tool</th>\n",
       "      <th>AWS Controls</th>\n",
       "      <th>Azure Controls</th>\n",
       "      <th>Total Controls</th>\n",
       "    </tr>\n",
       "  </thead>\n",
       "  <tbody>\n",
       "  </tbody>\n",
       "</table>\n",
       "</div>"
      ],
      "text/plain": [
       "Empty DataFrame\n",
       "Columns: [Tool, AWS Controls, Azure Controls, Total Controls]\n",
       "Index: []"
      ]
     },
     "execution_count": 6,
     "metadata": {},
     "output_type": "execute_result"
    }
   ],
   "source": [
    "# Initialize a list to store the comparison data\n",
    "comparison_data2 = {\n",
    "    \"Tool\": [],\n",
    "    \"AWS Controls\": [],\n",
    "    \"Azure Controls\": [],\n",
    "    \"Total Controls\": []\n",
    "}\n",
    "\n",
    "# Iterate through all tools in sarif_dataframes_by_tool\n",
    "for tool_name, df in sarif_dataframes_by_tool.items():\n",
    "    aws_count = df[df[\"source\"] == \"AWS\"].shape[0]\n",
    "    azure_count = df[df[\"source\"] == \"Azure\"].shape[0]\n",
    "    total_count = df.shape[0]\n",
    "    \n",
    "    comparison_data2[\"Tool\"].append(tool_name)\n",
    "    comparison_data2[\"AWS Controls\"].append(aws_count)\n",
    "    comparison_data2[\"Azure Controls\"].append(azure_count)\n",
    "    comparison_data2[\"Total Controls\"].append(total_count)\n",
    "\n",
    "# Convert the comparison data to a DataFrame\n",
    "comparison_data2 = pd.DataFrame(comparison_data2)\n",
    "\n",
    "# Display the DataFrame\n",
    "comparison_data2"
   ]
  },
  {
   "cell_type": "code",
   "execution_count": null,
   "id": "9fb002d6-1b8b-4220-9b07-8ab5e1756adb",
   "metadata": {},
   "outputs": [],
   "source": []
  },
  {
   "cell_type": "code",
   "execution_count": 7,
   "id": "585e9ce9-718b-4ced-b89f-94ff5cf58854",
   "metadata": {},
   "outputs": [
    {
     "name": "stdout",
     "output_type": "stream",
     "text": [
      "94\n"
     ]
    },
    {
     "data": {
      "text/plain": [
       "91"
      ]
     },
     "execution_count": 7,
     "metadata": {},
     "output_type": "execute_result"
    }
   ],
   "source": [
    "print(198-104)\n",
    "269 - 178"
   ]
  },
  {
   "cell_type": "code",
   "execution_count": null,
   "id": "7bce873b-2534-4153-977d-6ee2669ef6d7",
   "metadata": {},
   "outputs": [],
   "source": []
  },
  {
   "cell_type": "code",
   "execution_count": null,
   "id": "9485b576-e0ff-44bc-844a-3952e772cdab",
   "metadata": {},
   "outputs": [],
   "source": []
  },
  {
   "cell_type": "code",
   "execution_count": null,
   "id": "d4c5d999-ba07-417f-894d-da7b71147c52",
   "metadata": {},
   "outputs": [],
   "source": []
  },
  {
   "cell_type": "code",
   "execution_count": null,
   "id": "29823be8-1919-4ee8-81a3-29af6023720b",
   "metadata": {},
   "outputs": [],
   "source": []
  }
 ],
 "metadata": {
  "kernelspec": {
   "display_name": "Python 3 (ipykernel)",
   "language": "python",
   "name": "python3"
  },
  "language_info": {
   "codemirror_mode": {
    "name": "ipython",
    "version": 3
   },
   "file_extension": ".py",
   "mimetype": "text/x-python",
   "name": "python",
   "nbconvert_exporter": "python",
   "pygments_lexer": "ipython3",
   "version": "3.9.6"
  }
 },
 "nbformat": 4,
 "nbformat_minor": 5
}
